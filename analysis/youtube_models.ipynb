{
  "nbformat": 4,
  "nbformat_minor": 0,
  "metadata": {
    "colab": {
      "provenance": [],
      "authorship_tag": "ABX9TyMJdy87orYjkPKIdlJrbIgX",
      "include_colab_link": true
    },
    "kernelspec": {
      "name": "python3",
      "display_name": "Python 3"
    },
    "language_info": {
      "name": "python"
    }
  },
  "cells": [
    {
      "cell_type": "markdown",
      "metadata": {
        "id": "view-in-github",
        "colab_type": "text"
      },
      "source": [
        "<a href=\"https://colab.research.google.com/github/JuliustheCreator/channel-growth-model/blob/main/analysis/youtube_models.ipynb\" target=\"_parent\"><img src=\"https://colab.research.google.com/assets/colab-badge.svg\" alt=\"Open In Colab\"/></a>"
      ]
    },
    {
      "cell_type": "markdown",
      "source": [
        "### **Importing Modules**\n",
        "\n",
        "\n",
        "---\n",
        "\n"
      ],
      "metadata": {
        "id": "UaOrDpUEWg-q"
      }
    },
    {
      "cell_type": "code",
      "execution_count": null,
      "metadata": {
        "id": "5Den55cKVgEq"
      },
      "outputs": [],
      "source": [
        "import pandas as pd\n",
        "import tensorflow as tf\n",
        "import pickle\n",
        "import numpy as np\n",
        "from sklearn.model_selection import train_test_split\n",
        "from sklearn.preprocessing import MinMaxScaler\n",
        "from google.colab import files"
      ]
    },
    {
      "cell_type": "markdown",
      "source": [
        "#### **Importing Cleaned Dataset**\n",
        "\n",
        "\n",
        "---\n",
        "\n"
      ],
      "metadata": {
        "id": "7jyyVgihdrGP"
      }
    },
    {
      "cell_type": "code",
      "source": [
        "uploaded = files.upload()\n",
        "\n",
        "with open(\"cleaned_data.pkl\", \"rb\") as f:\n",
        "    df = pickle.load(f)\n"
      ],
      "metadata": {
        "colab": {
          "base_uri": "https://localhost:8080/",
          "height": 74
        },
        "id": "eBIUPhfJWyY_",
        "outputId": "d4c7b596-0993-4adb-ca5d-334c3e805827"
      },
      "execution_count": null,
      "outputs": [
        {
          "output_type": "display_data",
          "data": {
            "text/plain": [
              "<IPython.core.display.HTML object>"
            ],
            "text/html": [
              "\n",
              "     <input type=\"file\" id=\"files-543c02de-2c80-4744-a3c2-d498b0fc24e0\" name=\"files[]\" multiple disabled\n",
              "        style=\"border:none\" />\n",
              "     <output id=\"result-543c02de-2c80-4744-a3c2-d498b0fc24e0\">\n",
              "      Upload widget is only available when the cell has been executed in the\n",
              "      current browser session. Please rerun this cell to enable.\n",
              "      </output>\n",
              "      <script>// Copyright 2017 Google LLC\n",
              "//\n",
              "// Licensed under the Apache License, Version 2.0 (the \"License\");\n",
              "// you may not use this file except in compliance with the License.\n",
              "// You may obtain a copy of the License at\n",
              "//\n",
              "//      http://www.apache.org/licenses/LICENSE-2.0\n",
              "//\n",
              "// Unless required by applicable law or agreed to in writing, software\n",
              "// distributed under the License is distributed on an \"AS IS\" BASIS,\n",
              "// WITHOUT WARRANTIES OR CONDITIONS OF ANY KIND, either express or implied.\n",
              "// See the License for the specific language governing permissions and\n",
              "// limitations under the License.\n",
              "\n",
              "/**\n",
              " * @fileoverview Helpers for google.colab Python module.\n",
              " */\n",
              "(function(scope) {\n",
              "function span(text, styleAttributes = {}) {\n",
              "  const element = document.createElement('span');\n",
              "  element.textContent = text;\n",
              "  for (const key of Object.keys(styleAttributes)) {\n",
              "    element.style[key] = styleAttributes[key];\n",
              "  }\n",
              "  return element;\n",
              "}\n",
              "\n",
              "// Max number of bytes which will be uploaded at a time.\n",
              "const MAX_PAYLOAD_SIZE = 100 * 1024;\n",
              "\n",
              "function _uploadFiles(inputId, outputId) {\n",
              "  const steps = uploadFilesStep(inputId, outputId);\n",
              "  const outputElement = document.getElementById(outputId);\n",
              "  // Cache steps on the outputElement to make it available for the next call\n",
              "  // to uploadFilesContinue from Python.\n",
              "  outputElement.steps = steps;\n",
              "\n",
              "  return _uploadFilesContinue(outputId);\n",
              "}\n",
              "\n",
              "// This is roughly an async generator (not supported in the browser yet),\n",
              "// where there are multiple asynchronous steps and the Python side is going\n",
              "// to poll for completion of each step.\n",
              "// This uses a Promise to block the python side on completion of each step,\n",
              "// then passes the result of the previous step as the input to the next step.\n",
              "function _uploadFilesContinue(outputId) {\n",
              "  const outputElement = document.getElementById(outputId);\n",
              "  const steps = outputElement.steps;\n",
              "\n",
              "  const next = steps.next(outputElement.lastPromiseValue);\n",
              "  return Promise.resolve(next.value.promise).then((value) => {\n",
              "    // Cache the last promise value to make it available to the next\n",
              "    // step of the generator.\n",
              "    outputElement.lastPromiseValue = value;\n",
              "    return next.value.response;\n",
              "  });\n",
              "}\n",
              "\n",
              "/**\n",
              " * Generator function which is called between each async step of the upload\n",
              " * process.\n",
              " * @param {string} inputId Element ID of the input file picker element.\n",
              " * @param {string} outputId Element ID of the output display.\n",
              " * @return {!Iterable<!Object>} Iterable of next steps.\n",
              " */\n",
              "function* uploadFilesStep(inputId, outputId) {\n",
              "  const inputElement = document.getElementById(inputId);\n",
              "  inputElement.disabled = false;\n",
              "\n",
              "  const outputElement = document.getElementById(outputId);\n",
              "  outputElement.innerHTML = '';\n",
              "\n",
              "  const pickedPromise = new Promise((resolve) => {\n",
              "    inputElement.addEventListener('change', (e) => {\n",
              "      resolve(e.target.files);\n",
              "    });\n",
              "  });\n",
              "\n",
              "  const cancel = document.createElement('button');\n",
              "  inputElement.parentElement.appendChild(cancel);\n",
              "  cancel.textContent = 'Cancel upload';\n",
              "  const cancelPromise = new Promise((resolve) => {\n",
              "    cancel.onclick = () => {\n",
              "      resolve(null);\n",
              "    };\n",
              "  });\n",
              "\n",
              "  // Wait for the user to pick the files.\n",
              "  const files = yield {\n",
              "    promise: Promise.race([pickedPromise, cancelPromise]),\n",
              "    response: {\n",
              "      action: 'starting',\n",
              "    }\n",
              "  };\n",
              "\n",
              "  cancel.remove();\n",
              "\n",
              "  // Disable the input element since further picks are not allowed.\n",
              "  inputElement.disabled = true;\n",
              "\n",
              "  if (!files) {\n",
              "    return {\n",
              "      response: {\n",
              "        action: 'complete',\n",
              "      }\n",
              "    };\n",
              "  }\n",
              "\n",
              "  for (const file of files) {\n",
              "    const li = document.createElement('li');\n",
              "    li.append(span(file.name, {fontWeight: 'bold'}));\n",
              "    li.append(span(\n",
              "        `(${file.type || 'n/a'}) - ${file.size} bytes, ` +\n",
              "        `last modified: ${\n",
              "            file.lastModifiedDate ? file.lastModifiedDate.toLocaleDateString() :\n",
              "                                    'n/a'} - `));\n",
              "    const percent = span('0% done');\n",
              "    li.appendChild(percent);\n",
              "\n",
              "    outputElement.appendChild(li);\n",
              "\n",
              "    const fileDataPromise = new Promise((resolve) => {\n",
              "      const reader = new FileReader();\n",
              "      reader.onload = (e) => {\n",
              "        resolve(e.target.result);\n",
              "      };\n",
              "      reader.readAsArrayBuffer(file);\n",
              "    });\n",
              "    // Wait for the data to be ready.\n",
              "    let fileData = yield {\n",
              "      promise: fileDataPromise,\n",
              "      response: {\n",
              "        action: 'continue',\n",
              "      }\n",
              "    };\n",
              "\n",
              "    // Use a chunked sending to avoid message size limits. See b/62115660.\n",
              "    let position = 0;\n",
              "    do {\n",
              "      const length = Math.min(fileData.byteLength - position, MAX_PAYLOAD_SIZE);\n",
              "      const chunk = new Uint8Array(fileData, position, length);\n",
              "      position += length;\n",
              "\n",
              "      const base64 = btoa(String.fromCharCode.apply(null, chunk));\n",
              "      yield {\n",
              "        response: {\n",
              "          action: 'append',\n",
              "          file: file.name,\n",
              "          data: base64,\n",
              "        },\n",
              "      };\n",
              "\n",
              "      let percentDone = fileData.byteLength === 0 ?\n",
              "          100 :\n",
              "          Math.round((position / fileData.byteLength) * 100);\n",
              "      percent.textContent = `${percentDone}% done`;\n",
              "\n",
              "    } while (position < fileData.byteLength);\n",
              "  }\n",
              "\n",
              "  // All done.\n",
              "  yield {\n",
              "    response: {\n",
              "      action: 'complete',\n",
              "    }\n",
              "  };\n",
              "}\n",
              "\n",
              "scope.google = scope.google || {};\n",
              "scope.google.colab = scope.google.colab || {};\n",
              "scope.google.colab._files = {\n",
              "  _uploadFiles,\n",
              "  _uploadFilesContinue,\n",
              "};\n",
              "})(self);\n",
              "</script> "
            ]
          },
          "metadata": {}
        },
        {
          "output_type": "stream",
          "name": "stdout",
          "text": [
            "Saving cleaned_data.pkl to cleaned_data.pkl\n"
          ]
        }
      ]
    },
    {
      "cell_type": "markdown",
      "source": [
        "### **Cleaning Dataset Further for Model**"
      ],
      "metadata": {
        "id": "J8L-W42fqDSa"
      }
    },
    {
      "cell_type": "code",
      "source": [
        "# Removing channels (rows) where there are no videos or no views\n",
        "df = df.drop(df[(df['Video Views'] == 0) | (df['Video Count'] == 0)].index)\n",
        "\n",
        "# Augmenting dataset (adding dummy channels)\n",
        "for i in range(250):\n",
        "\n",
        "  # Randomizing age around the mean\n",
        "  age = np.random.normal(loc = df['Age'].mean(), scale = df['Age'].std())\n",
        "\n",
        "  dummy_channel = pd.DataFrame({'Youtube Channel': ['Dummy Channel'], 'Subscribers':[0], 'Video Views':[0], 'Video Count':[0], 'Age':[int(age)]})\n",
        "\n",
        "  df = pd.concat([df, dummy_channel], ignore_index = True)"
      ],
      "metadata": {
        "id": "9kbNV2s5qQpQ"
      },
      "execution_count": null,
      "outputs": []
    },
    {
      "cell_type": "markdown",
      "source": [
        "### **Building the Regression Model (Neural Network)**\n",
        "\n",
        "\n",
        "---\n",
        "\n"
      ],
      "metadata": {
        "id": "48ZWoIFUd-e3"
      }
    },
    {
      "cell_type": "code",
      "source": [
        "# Selecting required columns\n",
        "X = df[['Video Views', 'Video Count', 'Age']]\n",
        "y = df['Subscribers']\n",
        "\n",
        "# Scaling the features\n",
        "scaler = MinMaxScaler()\n",
        "X = scaler.fit_transform(X)\n",
        "\n",
        "# Splitting the data into training and testing sets\n",
        "X_train, X_test, y_train, y_test = train_test_split(X, y, test_size = 0.2, random_state = 220)\n",
        "\n",
        "# Creating Model\n",
        "model = tf.keras.Sequential([\n",
        "    tf.keras.layers.Dense(64, activation = 'relu', input_shape = [X_train.shape[1]]),\n",
        "    tf.keras.layers.Dense(32, activation = 'relu'),\n",
        "    tf.keras.layers.Dense(1)\n",
        "])"
      ],
      "metadata": {
        "id": "Klu35OdOd0rH"
      },
      "execution_count": null,
      "outputs": []
    },
    {
      "cell_type": "markdown",
      "source": [
        "### **Training the Model**\n",
        "\n",
        "\n",
        "---\n",
        "\n"
      ],
      "metadata": {
        "id": "hTirEbE0eOpw"
      }
    },
    {
      "cell_type": "code",
      "source": [
        "model.compile(optimizer = 'adam', loss = 'mean_squared_error')\n",
        "\n",
        "history = model.fit(X_train, y_train, epochs = 100, batch_size = 50, validation_split = 0.2)"
      ],
      "metadata": {
        "colab": {
          "base_uri": "https://localhost:8080/"
        },
        "id": "ini_pWgnedi2",
        "outputId": "d932d9be-dc2d-4d9d-806b-fa95617ef2b7"
      },
      "execution_count": null,
      "outputs": [
        {
          "output_type": "stream",
          "name": "stdout",
          "text": [
            "Epoch 1/100\n",
            "16/16 [==============================] - 1s 14ms/step - loss: 516.3254 - val_loss: 824.3991\n",
            "Epoch 2/100\n",
            "16/16 [==============================] - 0s 5ms/step - loss: 507.0865 - val_loss: 812.0538\n",
            "Epoch 3/100\n",
            "16/16 [==============================] - 0s 5ms/step - loss: 495.1099 - val_loss: 794.7263\n",
            "Epoch 4/100\n",
            "16/16 [==============================] - 0s 5ms/step - loss: 477.9351 - val_loss: 769.0967\n",
            "Epoch 5/100\n",
            "16/16 [==============================] - 0s 5ms/step - loss: 452.0368 - val_loss: 732.0414\n",
            "Epoch 6/100\n",
            "16/16 [==============================] - 0s 4ms/step - loss: 416.2325 - val_loss: 680.8130\n",
            "Epoch 7/100\n",
            "16/16 [==============================] - 0s 4ms/step - loss: 370.3120 - val_loss: 619.4609\n",
            "Epoch 8/100\n",
            "16/16 [==============================] - 0s 4ms/step - loss: 319.6981 - val_loss: 554.1934\n",
            "Epoch 9/100\n",
            "16/16 [==============================] - 0s 4ms/step - loss: 272.5513 - val_loss: 497.3525\n",
            "Epoch 10/100\n",
            "16/16 [==============================] - 0s 6ms/step - loss: 238.5688 - val_loss: 458.5141\n",
            "Epoch 11/100\n",
            "16/16 [==============================] - 0s 5ms/step - loss: 221.7840 - val_loss: 438.9431\n",
            "Epoch 12/100\n",
            "16/16 [==============================] - 0s 4ms/step - loss: 217.2058 - val_loss: 430.8513\n",
            "Epoch 13/100\n",
            "16/16 [==============================] - 0s 4ms/step - loss: 216.0477 - val_loss: 426.8670\n",
            "Epoch 14/100\n",
            "16/16 [==============================] - 0s 4ms/step - loss: 215.5393 - val_loss: 423.3723\n",
            "Epoch 15/100\n",
            "16/16 [==============================] - 0s 4ms/step - loss: 214.1383 - val_loss: 422.1331\n",
            "Epoch 16/100\n",
            "16/16 [==============================] - 0s 4ms/step - loss: 213.2627 - val_loss: 420.2226\n",
            "Epoch 17/100\n",
            "16/16 [==============================] - 0s 4ms/step - loss: 212.2994 - val_loss: 417.3119\n",
            "Epoch 18/100\n",
            "16/16 [==============================] - 0s 4ms/step - loss: 211.4058 - val_loss: 413.7426\n",
            "Epoch 19/100\n",
            "16/16 [==============================] - 0s 4ms/step - loss: 210.4185 - val_loss: 410.8893\n",
            "Epoch 20/100\n",
            "16/16 [==============================] - 0s 4ms/step - loss: 209.4734 - val_loss: 408.6027\n",
            "Epoch 21/100\n",
            "16/16 [==============================] - 0s 5ms/step - loss: 208.3320 - val_loss: 405.5388\n",
            "Epoch 22/100\n",
            "16/16 [==============================] - 0s 5ms/step - loss: 207.4030 - val_loss: 402.5882\n",
            "Epoch 23/100\n",
            "16/16 [==============================] - 0s 5ms/step - loss: 206.3310 - val_loss: 398.8069\n",
            "Epoch 24/100\n",
            "16/16 [==============================] - 0s 4ms/step - loss: 205.1436 - val_loss: 396.4888\n",
            "Epoch 25/100\n",
            "16/16 [==============================] - 0s 5ms/step - loss: 204.0332 - val_loss: 393.2552\n",
            "Epoch 26/100\n",
            "16/16 [==============================] - 0s 4ms/step - loss: 202.8829 - val_loss: 389.0938\n",
            "Epoch 27/100\n",
            "16/16 [==============================] - 0s 4ms/step - loss: 201.7039 - val_loss: 387.0981\n",
            "Epoch 28/100\n",
            "16/16 [==============================] - 0s 4ms/step - loss: 200.2704 - val_loss: 382.4823\n",
            "Epoch 29/100\n",
            "16/16 [==============================] - 0s 3ms/step - loss: 199.0903 - val_loss: 378.9585\n",
            "Epoch 30/100\n",
            "16/16 [==============================] - 0s 4ms/step - loss: 197.9630 - val_loss: 375.4885\n",
            "Epoch 31/100\n",
            "16/16 [==============================] - 0s 3ms/step - loss: 196.5245 - val_loss: 369.1345\n",
            "Epoch 32/100\n",
            "16/16 [==============================] - 0s 4ms/step - loss: 194.6994 - val_loss: 366.0913\n",
            "Epoch 33/100\n",
            "16/16 [==============================] - 0s 5ms/step - loss: 192.9359 - val_loss: 361.7623\n",
            "Epoch 34/100\n",
            "16/16 [==============================] - 0s 4ms/step - loss: 191.1172 - val_loss: 356.5756\n",
            "Epoch 35/100\n",
            "16/16 [==============================] - 0s 4ms/step - loss: 189.3849 - val_loss: 351.6312\n",
            "Epoch 36/100\n",
            "16/16 [==============================] - 0s 4ms/step - loss: 187.7919 - val_loss: 345.4433\n",
            "Epoch 37/100\n",
            "16/16 [==============================] - 0s 4ms/step - loss: 185.5606 - val_loss: 341.1105\n",
            "Epoch 38/100\n",
            "16/16 [==============================] - 0s 4ms/step - loss: 183.6188 - val_loss: 335.9911\n",
            "Epoch 39/100\n",
            "16/16 [==============================] - 0s 5ms/step - loss: 181.3665 - val_loss: 330.3981\n",
            "Epoch 40/100\n",
            "16/16 [==============================] - 0s 4ms/step - loss: 179.2281 - val_loss: 323.7489\n",
            "Epoch 41/100\n",
            "16/16 [==============================] - 0s 4ms/step - loss: 177.1453 - val_loss: 316.1528\n",
            "Epoch 42/100\n",
            "16/16 [==============================] - 0s 6ms/step - loss: 174.7625 - val_loss: 312.0925\n",
            "Epoch 43/100\n",
            "16/16 [==============================] - 0s 4ms/step - loss: 172.2429 - val_loss: 303.7182\n",
            "Epoch 44/100\n",
            "16/16 [==============================] - 0s 4ms/step - loss: 169.2539 - val_loss: 295.8344\n",
            "Epoch 45/100\n",
            "16/16 [==============================] - 0s 4ms/step - loss: 166.8852 - val_loss: 288.5013\n",
            "Epoch 46/100\n",
            "16/16 [==============================] - 0s 4ms/step - loss: 163.7542 - val_loss: 281.0739\n",
            "Epoch 47/100\n",
            "16/16 [==============================] - 0s 4ms/step - loss: 160.5829 - val_loss: 273.5018\n",
            "Epoch 48/100\n",
            "16/16 [==============================] - 0s 4ms/step - loss: 158.1169 - val_loss: 264.6255\n",
            "Epoch 49/100\n",
            "16/16 [==============================] - 0s 4ms/step - loss: 154.3430 - val_loss: 256.6100\n",
            "Epoch 50/100\n",
            "16/16 [==============================] - 0s 5ms/step - loss: 151.0609 - val_loss: 247.4992\n",
            "Epoch 51/100\n",
            "16/16 [==============================] - 0s 6ms/step - loss: 147.6503 - val_loss: 238.4314\n",
            "Epoch 52/100\n",
            "16/16 [==============================] - 0s 7ms/step - loss: 144.2270 - val_loss: 230.1802\n",
            "Epoch 53/100\n",
            "16/16 [==============================] - 0s 6ms/step - loss: 140.7716 - val_loss: 220.1088\n",
            "Epoch 54/100\n",
            "16/16 [==============================] - 0s 5ms/step - loss: 136.8874 - val_loss: 212.3181\n",
            "Epoch 55/100\n",
            "16/16 [==============================] - 0s 5ms/step - loss: 133.1678 - val_loss: 203.4918\n",
            "Epoch 56/100\n",
            "16/16 [==============================] - 0s 5ms/step - loss: 130.0150 - val_loss: 193.6741\n",
            "Epoch 57/100\n",
            "16/16 [==============================] - 0s 6ms/step - loss: 126.1809 - val_loss: 184.8488\n",
            "Epoch 58/100\n",
            "16/16 [==============================] - 0s 5ms/step - loss: 122.5672 - val_loss: 177.3821\n",
            "Epoch 59/100\n",
            "16/16 [==============================] - 0s 6ms/step - loss: 118.8627 - val_loss: 168.0250\n",
            "Epoch 60/100\n",
            "16/16 [==============================] - 0s 5ms/step - loss: 115.2493 - val_loss: 159.8161\n",
            "Epoch 61/100\n",
            "16/16 [==============================] - 0s 5ms/step - loss: 111.4809 - val_loss: 151.4981\n",
            "Epoch 62/100\n",
            "16/16 [==============================] - 0s 6ms/step - loss: 107.7819 - val_loss: 144.1415\n",
            "Epoch 63/100\n",
            "16/16 [==============================] - 0s 6ms/step - loss: 104.9076 - val_loss: 136.5904\n",
            "Epoch 64/100\n",
            "16/16 [==============================] - 0s 7ms/step - loss: 101.5377 - val_loss: 130.1412\n",
            "Epoch 65/100\n",
            "16/16 [==============================] - 0s 6ms/step - loss: 98.7594 - val_loss: 124.7756\n",
            "Epoch 66/100\n",
            "16/16 [==============================] - 0s 7ms/step - loss: 96.6384 - val_loss: 119.4112\n",
            "Epoch 67/100\n",
            "16/16 [==============================] - 0s 6ms/step - loss: 93.9104 - val_loss: 114.3112\n",
            "Epoch 68/100\n",
            "16/16 [==============================] - 0s 7ms/step - loss: 91.5982 - val_loss: 110.3031\n",
            "Epoch 69/100\n",
            "16/16 [==============================] - 0s 6ms/step - loss: 89.7080 - val_loss: 106.6445\n",
            "Epoch 70/100\n",
            "16/16 [==============================] - 0s 6ms/step - loss: 88.5939 - val_loss: 104.4727\n",
            "Epoch 71/100\n",
            "16/16 [==============================] - 0s 7ms/step - loss: 86.9260 - val_loss: 100.7286\n",
            "Epoch 72/100\n",
            "16/16 [==============================] - 0s 5ms/step - loss: 85.4621 - val_loss: 98.5783\n",
            "Epoch 73/100\n",
            "16/16 [==============================] - 0s 7ms/step - loss: 84.5004 - val_loss: 96.8616\n",
            "Epoch 74/100\n",
            "16/16 [==============================] - 0s 6ms/step - loss: 84.3430 - val_loss: 96.0415\n",
            "Epoch 75/100\n",
            "16/16 [==============================] - 0s 5ms/step - loss: 82.8174 - val_loss: 94.0727\n",
            "Epoch 76/100\n",
            "16/16 [==============================] - 0s 5ms/step - loss: 82.0650 - val_loss: 93.1580\n",
            "Epoch 77/100\n",
            "16/16 [==============================] - 0s 5ms/step - loss: 81.5082 - val_loss: 92.3669\n",
            "Epoch 78/100\n",
            "16/16 [==============================] - 0s 6ms/step - loss: 81.0911 - val_loss: 91.7462\n",
            "Epoch 79/100\n",
            "16/16 [==============================] - 0s 6ms/step - loss: 80.7445 - val_loss: 91.2147\n",
            "Epoch 80/100\n",
            "16/16 [==============================] - 0s 5ms/step - loss: 80.5639 - val_loss: 90.9559\n",
            "Epoch 81/100\n",
            "16/16 [==============================] - 0s 4ms/step - loss: 80.1982 - val_loss: 90.5986\n",
            "Epoch 82/100\n",
            "16/16 [==============================] - 0s 5ms/step - loss: 80.0096 - val_loss: 90.3756\n",
            "Epoch 83/100\n",
            "16/16 [==============================] - 0s 5ms/step - loss: 79.6400 - val_loss: 90.1069\n",
            "Epoch 84/100\n",
            "16/16 [==============================] - 0s 5ms/step - loss: 79.7351 - val_loss: 90.3927\n",
            "Epoch 85/100\n",
            "16/16 [==============================] - 0s 5ms/step - loss: 79.4289 - val_loss: 89.8925\n",
            "Epoch 86/100\n",
            "16/16 [==============================] - 0s 5ms/step - loss: 79.2593 - val_loss: 89.8302\n",
            "Epoch 87/100\n",
            "16/16 [==============================] - 0s 5ms/step - loss: 79.2329 - val_loss: 89.7928\n",
            "Epoch 88/100\n",
            "16/16 [==============================] - 0s 4ms/step - loss: 79.2657 - val_loss: 89.9303\n",
            "Epoch 89/100\n",
            "16/16 [==============================] - 0s 4ms/step - loss: 79.1515 - val_loss: 89.5658\n",
            "Epoch 90/100\n",
            "16/16 [==============================] - 0s 4ms/step - loss: 79.5618 - val_loss: 89.5511\n",
            "Epoch 91/100\n",
            "16/16 [==============================] - 0s 5ms/step - loss: 79.1676 - val_loss: 89.4937\n",
            "Epoch 92/100\n",
            "16/16 [==============================] - 0s 5ms/step - loss: 79.5634 - val_loss: 90.0110\n",
            "Epoch 93/100\n",
            "16/16 [==============================] - 0s 5ms/step - loss: 79.6087 - val_loss: 89.3268\n",
            "Epoch 94/100\n",
            "16/16 [==============================] - 0s 5ms/step - loss: 78.8871 - val_loss: 89.3426\n",
            "Epoch 95/100\n",
            "16/16 [==============================] - 0s 4ms/step - loss: 78.8979 - val_loss: 89.5445\n",
            "Epoch 96/100\n",
            "16/16 [==============================] - 0s 4ms/step - loss: 78.7821 - val_loss: 89.2646\n",
            "Epoch 97/100\n",
            "16/16 [==============================] - 0s 4ms/step - loss: 78.6372 - val_loss: 89.1244\n",
            "Epoch 98/100\n",
            "16/16 [==============================] - 0s 5ms/step - loss: 78.7670 - val_loss: 89.3232\n",
            "Epoch 99/100\n",
            "16/16 [==============================] - 0s 4ms/step - loss: 78.8107 - val_loss: 89.0791\n",
            "Epoch 100/100\n",
            "16/16 [==============================] - 0s 5ms/step - loss: 78.8293 - val_loss: 89.1924\n"
          ]
        }
      ]
    },
    {
      "cell_type": "markdown",
      "source": [
        "### **Evaluating the Model**\n",
        "\n",
        "\n",
        "---\n",
        "\n"
      ],
      "metadata": {
        "id": "7IKT40zCe6b0"
      }
    },
    {
      "cell_type": "code",
      "source": [
        "loss = model.evaluate(X_test, y_test)\n",
        "print(f\"Mean squared error: {loss}\")"
      ],
      "metadata": {
        "colab": {
          "base_uri": "https://localhost:8080/"
        },
        "id": "LRU4LvgcfCGN",
        "outputId": "f9735e10-3855-4daa-b493-070a2ca51bc5"
      },
      "execution_count": null,
      "outputs": [
        {
          "output_type": "stream",
          "name": "stdout",
          "text": [
            "8/8 [==============================] - 0s 2ms/step - loss: 45.3746\n",
            "Mean squared error: 45.37457275390625\n"
          ]
        }
      ]
    },
    {
      "cell_type": "markdown",
      "source": [
        "### **Exporting and Testing Model**\n",
        "\n",
        "\n",
        "---\n",
        "\n"
      ],
      "metadata": {
        "id": "m2C7UpktfMy0"
      }
    },
    {
      "cell_type": "code",
      "source": [
        "# To Test the Model with Custom Values\n",
        "views = float(input('Input Video Views: ')) / 1_000_000\n",
        "videos = float(input('Input Video Count: ')) / 1000\n",
        "age = float(input('Input Age of Channel: '))\n",
        "\n",
        "# Prediction\n",
        "test_values = scaler.transform(np.array([[views, videos, age]]))\n",
        "\n",
        "predicted_subscribers = model.predict(test_values)\n",
        "print(f\"Estimated Subscriber Count: {int(predicted_subscribers[0][0]) * 1_000_000:,}\")"
      ],
      "metadata": {
        "colab": {
          "base_uri": "https://localhost:8080/"
        },
        "id": "EupGFuLxfUIE",
        "outputId": "a3ce8f47-421f-454b-fffc-73d3202dda67"
      },
      "execution_count": null,
      "outputs": [
        {
          "output_type": "stream",
          "name": "stdout",
          "text": [
            "Input Video Views: 1000000\n",
            "Input Video Count: 500\n",
            "Input Age of Channel: 5\n",
            "1/1 [==============================] - 0s 20ms/step\n",
            "Estimated Subscriber Count: 7,000,000\n"
          ]
        },
        {
          "output_type": "stream",
          "name": "stderr",
          "text": [
            "/usr/local/lib/python3.9/dist-packages/sklearn/base.py:439: UserWarning: X does not have valid feature names, but MinMaxScaler was fitted with feature names\n",
            "  warnings.warn(\n"
          ]
        }
      ]
    }
  ]
}